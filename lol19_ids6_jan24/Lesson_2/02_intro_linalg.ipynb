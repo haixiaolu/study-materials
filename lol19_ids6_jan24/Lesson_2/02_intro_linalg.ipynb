{
 "cells": [
  {
   "cell_type": "markdown",
   "metadata": {},
   "source": [
    "## Class 2: Linear Algebra and Stats in Python\n",
    "### Agenda:\n",
    "* **An overview of how to work with matrices and vectors in Python (this notebook)**\n",
    "* **An overview of probabilities and probability distributions in Python (next notebook)**"
   ]
  },
  {
   "cell_type": "markdown",
   "metadata": {},
   "source": [
    "### Outline of this notebook\n",
    "* **scalars and scalar operations**\n",
    "* **vectors and vector operations**\n",
    "* **matrices and basic matrix operations**\n",
    "* **matrix inverse**\n",
    "* **matrix transpose**"
   ]
  },
  {
   "cell_type": "markdown",
   "metadata": {},
   "source": [
    "Ok, so last time we had a whirlwind tour of basic `Python`.\n",
    "\n",
    "Now we will have provide you with a linear algebra foundation, and experiment a bit in `Python` using the [NumPy library](http://www.numpy.org/). \n",
    "\n",
    "`NumPy` is a library (a collection of functions and datatypes) that extends the numerical capabilities of pure `Python` to work very quickly (and well) with matrices and vectors. `NumPy` is a core component of the [**`Python` scientific stack**](http://www.scipy.org/index.html), and we will be using it a lot as we proceed through the course."
   ]
  },
  {
   "cell_type": "markdown",
   "metadata": {},
   "source": [
    "Matrices and vectors are parts of the mathematical bedrock that data scientists rely on, on a daily basis. \n",
    "\n",
    "In order to succeed as a data scientist, we need to understand how to work, in a limited way, with matrices and vectors, so we will spend this portion of the class working with both kinds of objects. \n",
    "\n",
    "**Going forward, we will infrequently work with matrices and vectors directly, but it is nonetheless important to understand some of their basic properties to be productive as we progress through this course.**"
   ]
  },
  {
   "cell_type": "markdown",
   "metadata": {},
   "source": [
    "Now, some plumbing issues/explanations.\n",
    "\n",
    "In order to use `numpy` within a given `Python` program or script, we need to `import` it into our program's namespace. \n",
    "\n",
    "This is just a way of saying, in order for our `Python` code to rely on all of the cool `numpy` functionality, we need to tell our program to use it (it doesn't get baked into our program by default).\n",
    "\n",
    "So let's do that:"
   ]
  },
  {
   "cell_type": "code",
   "execution_count": 1,
   "metadata": {
    "collapsed": true
   },
   "outputs": [],
   "source": [
    "import numpy as np"
   ]
  },
  {
   "cell_type": "markdown",
   "metadata": {},
   "source": [
    "What we've done is told `Python` \"give me all the functionality of numpy, but whenever I call a numpy function, I don't want to say numpy.BLAH, instead, I want to say np.BLAH.\"\n",
    "\n",
    "Make sense?\n",
    "\n",
    "This is a **convention** in the `Python` world. Many packages that are used by developers and data scientists have conventional renamings, and I will attempt to use them throughout the course (If I know the convention :)).\n",
    "\n",
    "I'll also allow for us to use matplotlib throughout this notebook."
   ]
  },
  {
   "cell_type": "code",
   "execution_count": 2,
   "metadata": {
    "collapsed": false
   },
   "outputs": [
    {
     "name": "stdout",
     "output_type": "stream",
     "text": [
      "Populating the interactive namespace from numpy and matplotlib\n"
     ]
    }
   ],
   "source": [
    "import matplotlib.pyplot as plt\n",
    "%pylab inline"
   ]
  },
  {
   "cell_type": "markdown",
   "metadata": {},
   "source": [
    "### Linear Systems\n",
    "\n",
    "Ok, the linear system focused on in class involves these two equestions:\n",
    "\n",
    "- y = 800 + 20x\n",
    "- y = 1 + 100x\n",
    "\n",
    "Let's plot them:"
   ]
  },
  {
   "cell_type": "code",
   "execution_count": 3,
   "metadata": {
    "collapsed": false
   },
   "outputs": [
    {
     "data": {
      "text/plain": [
       "[<matplotlib.lines.Line2D at 0x1091886a0>]"
      ]
     },
     "execution_count": 3,
     "metadata": {},
     "output_type": "execute_result"
    },
    {
     "data": {
      "image/png": "[encoded data removed]",
      "text/plain": [
       "<matplotlib.figure.Figure at 0x107a25860>"
      ]
     },
     "metadata": {},
     "output_type": "display_data"
    }
   ],
   "source": [
    "x = np.linspace(0, 50, 1000)\n",
    "y1 = 20*x +800\n",
    "y2 = 100*x + 10\n",
    "\n",
    "plt.plot(x, y1, c='red')\n",
    "plt.plot(x, y2, c='blue')"
   ]
  },
  {
   "cell_type": "markdown",
   "metadata": {},
   "source": [
    "### Gaussian Elimination / solving the augmented matrix\n",
    "**You won't need to know how to do this.** I have only provided it here for reference in case you'd like to understand what's happening behind the scenes.\n",
    "\n",
    "Matrix Row Operations Rules:\n",
    "\n",
    "- Any Two Rows can be Swapped\n",
    "- Any row can be multiplied by a nonzero constant\n",
    "- Any row can be added to another row\n",
    "\n",
    "First, let's define our matrix"
   ]
  },
  {
   "cell_type": "code",
   "execution_count": 5,
   "metadata": {
    "collapsed": false
   },
   "outputs": [
    {
     "data": {
      "text/plain": [
       "array([[  20.,   -1.,  -80.],\n",
       "       [ 100.,   -1.,  -10.]], dtype=float32)"
      ]
     },
     "execution_count": 5,
     "metadata": {},
     "output_type": "execute_result"
    }
   ],
   "source": [
    "matrix = np.array([[20, -1, -80],\n",
    "                   [100, -1, -10]\n",
    "                  ], dtype=np.float32)\n",
    "matrix"
   ]
  },
  {
   "cell_type": "markdown",
   "metadata": {},
   "source": [
    "Let's transform Row 1 (R1) by multiplying it by 1/20\n",
    "\n",
    "R1 = R1 * (1/20)"
   ]
  },
  {
   "cell_type": "code",
   "execution_count": 10,
   "metadata": {
    "collapsed": false
   },
   "outputs": [
    {
     "data": {
      "text/plain": [
       "array([[  5.00000007e-02,   0.00000000e+00,   4.37499993e-02],\n",
       "       [  0.00000000e+00,   1.00000000e+00,   9.75000000e+01]], dtype=float32)"
      ]
     },
     "execution_count": 10,
     "metadata": {},
     "output_type": "execute_result"
    }
   ],
   "source": [
    "matrix[0] = matrix[0] / 20\n",
    "matrix"
   ]
  },
  {
   "cell_type": "markdown",
   "metadata": {},
   "source": [
    "R2 = R2 - (R1 * 100)"
   ]
  },
  {
   "cell_type": "code",
   "execution_count": 7,
   "metadata": {
    "collapsed": false
   },
   "outputs": [
    {
     "data": {
      "text/plain": [
       "array([[  1.00000000e+00,  -5.00000007e-02,  -4.00000000e+00],\n",
       "       [  0.00000000e+00,   4.00000000e+00,   3.90000000e+02]], dtype=float32)"
      ]
     },
     "execution_count": 7,
     "metadata": {},
     "output_type": "execute_result"
    }
   ],
   "source": [
    "matrix[1] = matrix[1] - (matrix[0] * 100)\n",
    "matrix"
   ]
  },
  {
   "cell_type": "markdown",
   "metadata": {},
   "source": [
    "R2 = R2 * (1/4)"
   ]
  },
  {
   "cell_type": "code",
   "execution_count": 8,
   "metadata": {
    "collapsed": false
   },
   "outputs": [
    {
     "data": {
      "text/plain": [
       "array([[  1.00000000e+00,  -5.00000007e-02,  -4.00000000e+00],\n",
       "       [  0.00000000e+00,   1.00000000e+00,   9.75000000e+01]], dtype=float32)"
      ]
     },
     "execution_count": 8,
     "metadata": {},
     "output_type": "execute_result"
    }
   ],
   "source": [
    "matrix[1] = matrix[1] / 4\n",
    "matrix"
   ]
  },
  {
   "cell_type": "markdown",
   "metadata": {},
   "source": [
    "R1 = R1 + R2 * (1/20)"
   ]
  },
  {
   "cell_type": "code",
   "execution_count": 9,
   "metadata": {
    "collapsed": false
   },
   "outputs": [
    {
     "data": {
      "text/plain": [
       "array([[  1.   ,   0.   ,   0.875],\n",
       "       [  0.   ,   1.   ,  97.5  ]], dtype=float32)"
      ]
     },
     "execution_count": 9,
     "metadata": {},
     "output_type": "execute_result"
    }
   ],
   "source": [
    "matrix[0] = matrix[0] + matrix[1] * (1/20)\n",
    "matrix"
   ]
  },
  {
   "cell_type": "markdown",
   "metadata": {},
   "source": [
    "### Scalars"
   ]
  },
  {
   "cell_type": "markdown",
   "metadata": {},
   "source": [
    "A scalar `NumPy` is just an individual number, just a mathy way of saying it. This is what we use when we add two numbers together, multiply them together, etc. You (intuitively) know what a scalar is:"
   ]
  },
  {
   "cell_type": "code",
   "execution_count": 4,
   "metadata": {
    "collapsed": false
   },
   "outputs": [
    {
     "name": "stdout",
     "output_type": "stream",
     "text": [
      "This is a scalar: 3.4\n"
     ]
    }
   ],
   "source": [
    "x = 3.4\n",
    "print(\"This is a scalar:\",x)"
   ]
  },
  {
   "cell_type": "markdown",
   "metadata": {
    "collapsed": true
   },
   "source": [
    "### Vectors"
   ]
  },
  {
   "cell_type": "markdown",
   "metadata": {
    "collapsed": true
   },
   "source": [
    "Vectors are just arrays (lists) of scalars. They are created in a very specific way in `Numpy`, by using the function `array` and can either be created directly, or **cast** from a list:"
   ]
  },
  {
   "cell_type": "code",
   "execution_count": 9,
   "metadata": {
    "collapsed": false
   },
   "outputs": [
    {
     "name": "stdout",
     "output_type": "stream",
     "text": [
      "[ 1 20 34 12] <type 'numpy.ndarray'>\n"
     ]
    }
   ],
   "source": [
    "an_array = np.array([1,20,34,12])\n",
    "print(an_array,type(an_array))"
   ]
  },
  {
   "cell_type": "code",
   "execution_count": 10,
   "metadata": {
    "collapsed": false
   },
   "outputs": [
    {
     "name": "stdout",
     "output_type": "stream",
     "text": [
      "[ 30.    3.5  12. ] <type 'numpy.ndarray'>\n"
     ]
    }
   ],
   "source": [
    "my_list = [30,3.5,12]\n",
    "an_array_from_list = np.array(my_list)\n",
    "print(an_array_from_list, type(an_array_from_list))"
   ]
  },
  {
   "cell_type": "markdown",
   "metadata": {},
   "source": [
    "However, unlike lists in pure `Python`, `NumPy` arrays are very different, in that they **must have scalars of all the same type in them.** \n",
    "\n",
    "`NumPy` is it automatically casts your lists into what it thinks is the most intuitive datatype for the array, given all of the values in it.\n",
    "\n",
    "So, if you have a list of `floats` and `ints`, you'll get a `NumPy` array that is all floats:"
   ]
  },
  {
   "cell_type": "code",
   "execution_count": 18,
   "metadata": {
    "collapsed": false
   },
   "outputs": [
    {
     "name": "stdout",
     "output_type": "stream",
     "text": [
      "[  1.    2.5  12. ] float64\n",
      "1.0 <type 'numpy.float64'>\n"
     ]
    }
   ],
   "source": [
    "my_float_and_int_list = [1,2.5,12]\n",
    "my_float_array = np.array(my_float_and_int_list)\n",
    "print(my_float_array, my_float_array.dtype)\n",
    "print(my_float_array[0], type(my_float_array[0])) #see?"
   ]
  },
  {
   "cell_type": "markdown",
   "metadata": {},
   "source": [
    "Same goes for ints"
   ]
  },
  {
   "cell_type": "code",
   "execution_count": 13,
   "metadata": {
    "collapsed": false
   },
   "outputs": [
    {
     "name": "stdout",
     "output_type": "stream",
     "text": [
      "[1 2 3 4] int64\n"
     ]
    }
   ],
   "source": [
    "my_int_list = [1, 2, 3, 4]\n",
    "my_int_array = np.array(my_int_list)\n",
    "print(my_int_array, my_int_array.dtype)"
   ]
  },
  {
   "cell_type": "markdown",
   "metadata": {},
   "source": [
    "As you'll see later, having all ints could become an issue when doing vector operations, it could cause you to lose precision. You can fix this by defining the datatype when creating the vector."
   ]
  },
  {
   "cell_type": "code",
   "execution_count": 14,
   "metadata": {
    "collapsed": false
   },
   "outputs": [
    {
     "name": "stdout",
     "output_type": "stream",
     "text": [
      "[ 1.  2.  3.  4.] float32\n"
     ]
    }
   ],
   "source": [
    "my_int_array = np.array(my_int_list, dtype=float32)\n",
    "print(my_int_array, my_int_array.dtype)"
   ]
  },
  {
   "cell_type": "markdown",
   "metadata": {},
   "source": [
    "You don't want to mix `strings` and numbers together, as you'll get behavior you might not have wanted:"
   ]
  },
  {
   "cell_type": "code",
   "execution_count": 17,
   "metadata": {
    "collapsed": false
   },
   "outputs": [
    {
     "name": "stdout",
     "output_type": "stream",
     "text": [
      "['hello' '12' '15.8'] |S5\n",
      "12 <type 'numpy.string_'>\n"
     ]
    }
   ],
   "source": [
    "my_list_of_strings_and_ints = [\"hello\",12,\"15.8\"]\n",
    "my_string_array = np.array(my_list_of_strings_and_ints)\n",
    "print(my_string_array, my_string_array.dtype)\n",
    "print(my_string_array[1],type(my_string_array[1])) # 12 is now a string!"
   ]
  },
  {
   "cell_type": "markdown",
   "metadata": {},
   "source": [
    "### Vector Operations\n",
    "\n",
    "#### Vector Addition"
   ]
  },
  {
   "cell_type": "code",
   "execution_count": 15,
   "metadata": {
    "collapsed": false
   },
   "outputs": [
    {
     "data": {
      "text/plain": [
       "array([ 4.,  3.], dtype=float32)"
      ]
     },
     "execution_count": 15,
     "metadata": {},
     "output_type": "execute_result"
    }
   ],
   "source": [
    "vector_one = np.asarray([3, 1], dtype=np.float32)\n",
    "\n",
    "vector_two = np.asarray([1, 2], dtype=np.float32)\n",
    "\n",
    "vector_one + vector_two"
   ]
  },
  {
   "cell_type": "markdown",
   "metadata": {},
   "source": [
    "You can add/subtract/multiply/divide 2 vectors together, this will cause them to be multiplied/added/subtracted/divided one by one. However, **the two vectors must be exactly the same shape**:"
   ]
  },
  {
   "cell_type": "code",
   "execution_count": 36,
   "metadata": {
    "collapsed": false
   },
   "outputs": [
    {
     "name": "stdout",
     "output_type": "stream",
     "text": [
      "are the two vectors of the same shape? True\n",
      "Original vectors:\t[10 12 13] [ 1.   4.   3.5]\n",
      "Added:\t\t\t[ 11.   16.   16.5]\n",
      "Divided:\t\t[ 10.           3.           3.71428571]\n",
      "Multiplied:\t\t[ 10.   48.   45.5]\n",
      "Subtracted:\t\t[ 9.   8.   9.5]\n"
     ]
    }
   ],
   "source": [
    "my_first_vector = np.array([10,12,13])\n",
    "my_second_vector = np.array([1,4,3.5])\n",
    "print(\"are the two vectors of the same shape?\", my_first_vector.shape == my_second_vector.shape) #how you check for equality in Pyton\n",
    "print(\"Original vectors:\\t\",my_first_vector, my_second_vector)\n",
    "print(\"Added:\\t\\t\\t\",my_first_vector+my_second_vector)\n",
    "print(\"Divided:\\t\\t\",my_first_vector/my_second_vector)\n",
    "print(\"Multiplied:\\t\\t\",my_first_vector*my_second_vector)\n",
    "print(\"Subtracted:\\t\\t\",my_first_vector-my_second_vector)"
   ]
  },
  {
   "cell_type": "markdown",
   "metadata": {},
   "source": [
    "#### Vector Scalar Multiplication"
   ]
  },
  {
   "cell_type": "code",
   "execution_count": 17,
   "metadata": {
    "collapsed": false
   },
   "outputs": [
    {
     "data": {
      "text/plain": [
       "array([ 9.,  3.], dtype=float32)"
      ]
     },
     "execution_count": 17,
     "metadata": {},
     "output_type": "execute_result"
    }
   ],
   "source": [
    "3 * vector_one"
   ]
  },
  {
   "cell_type": "markdown",
   "metadata": {},
   "source": [
    "#### Vector Scalar Addition"
   ]
  },
  {
   "cell_type": "code",
   "execution_count": 20,
   "metadata": {
    "collapsed": true
   },
   "outputs": [],
   "source": [
    "# Make a guess on what will happen, and then uncomment (remove '#') to check.\n",
    "\n",
    "# vector_one + 1"
   ]
  },
  {
   "cell_type": "markdown",
   "metadata": {},
   "source": [
    "#### Try a bit of everything"
   ]
  },
  {
   "cell_type": "markdown",
   "metadata": {},
   "source": [
    "When you have numeric 1-dimensional arrays (vectors, same thing). You can perform some cool math on them, like multiplying, dividing, adding to, subtracting from them by a scalar:"
   ]
  },
  {
   "cell_type": "code",
   "execution_count": 23,
   "metadata": {
    "collapsed": false
   },
   "outputs": [
    {
     "name": "stdout",
     "output_type": "stream",
     "text": [
      "Original array:\t\t[ 12.   46.    3.4]\n",
      "Multiplied by 3:\t[  36.   138.    10.2]\n",
      "Divided by 3:\t\t[  4.          15.33333333   1.13333333]\n",
      "Subtracted 3 from:\t[  9.   43.    0.4]\n",
      "Added 3 to:\t\t[ 15.   49.    6.4]\n"
     ]
    }
   ],
   "source": [
    "my_array = np.array([12,46,3.4])\n",
    "print(\"Original array:\\t\\t\",my_array)\n",
    "my_mult_array = my_array * 3\n",
    "print(\"Multiplied by 3:\\t\",my_mult_array)\n",
    "my_div_array = my_array / 3\n",
    "print(\"Divided by 3:\\t\\t\",my_div_array)\n",
    "my_sub_array = my_array - 3\n",
    "print(\"Subtracted 3 from:\\t\",my_sub_array)\n",
    "my_add_array = my_array + 3\n",
    "print(\"Added 3 to:\\t\\t\",my_add_array)"
   ]
  },
  {
   "cell_type": "markdown",
   "metadata": {},
   "source": [
    "#### Filtering vectors\n",
    "\n",
    "You can do other really cool things with arrays, like check each element in them for certain properties.\n",
    "\n",
    "Lets say we only wanted to see those entries that are greater than 10 in `my_array`.\n",
    "\n",
    "First, we want to find out which scalars in our array satisfy our condition (value > 10). Here's how we would do that:"
   ]
  },
  {
   "cell_type": "code",
   "execution_count": 25,
   "metadata": {
    "collapsed": false
   },
   "outputs": [
    {
     "data": {
      "text/plain": [
       "array([ True,  True, False], dtype=bool)"
      ]
     },
     "execution_count": 25,
     "metadata": {},
     "output_type": "execute_result"
    }
   ],
   "source": [
    "my_array > 10"
   ]
  },
  {
   "cell_type": "markdown",
   "metadata": {},
   "source": [
    "So checking for a condition gives us a new array that is of type `bool`.\n",
    "\n",
    "What we can then do is apply this same exact `boolean array` to our `original array` to get a new array that satisfies our condition:"
   ]
  },
  {
   "cell_type": "code",
   "execution_count": 37,
   "metadata": {
    "collapsed": false
   },
   "outputs": [
    {
     "name": "stdout",
     "output_type": "stream",
     "text": [
      "[ 12.  46.]\n"
     ]
    }
   ],
   "source": [
    "greater_than_10_array = my_array[my_array>10]\n",
    "print(greater_than_10_array) #cool huh?"
   ]
  },
  {
   "cell_type": "markdown",
   "metadata": {},
   "source": [
    "Remember this from Pandas??"
   ]
  },
  {
   "cell_type": "markdown",
   "metadata": {},
   "source": [
    "#### Exercise Time!!!\n",
    "* create a `NumPy array` called `heights` = [6.5,7.3,5.1,4.9]\n",
    "* multiply all of the heights by 4 and store that into a new variable called `huge_people`\n",
    "* create a new array `basketballers` with only those entries in heights that are > 6\n",
    "* create another array `little_people` with only those entries in heights that are < 5"
   ]
  },
  {
   "cell_type": "code",
   "execution_count": 21,
   "metadata": {
    "collapsed": true
   },
   "outputs": [],
   "source": [
    "#Fill in your work here:\n"
   ]
  },
  {
   "cell_type": "markdown",
   "metadata": {},
   "source": [
    "### Matrices"
   ]
  },
  {
   "cell_type": "markdown",
   "metadata": {},
   "source": [
    "Let's now come back to matrices, which are 2-dimensional vectors. They are a bit more complicated and have a lot more properties than vectors, but they are also infinitely more useful.\n",
    "\n",
    "Let's start. Here's a simple 2X2 matrix:"
   ]
  },
  {
   "cell_type": "markdown",
   "metadata": {},
   "source": [
    "Matrices are a bit different from vectors and scalars in that **all mathematical operations that are common in vectors/scalars can actually be performed in 2 very different ways on matrices**, either with individual values (scalars) or by combining 2 matrices using those operations.\n",
    "\n",
    "To understand this, lets look at the two ways matrix addition/subtraction/division/multiplication can be performed."
   ]
  },
  {
   "cell_type": "markdown",
   "metadata": {},
   "source": [
    "#### Matrix addition/subtraction/division/multiplication with scalars"
   ]
  },
  {
   "cell_type": "code",
   "execution_count": 23,
   "metadata": {
    "collapsed": false
   },
   "outputs": [
    {
     "name": "stdout",
     "output_type": "stream",
     "text": [
      "[[ 20.  12.]\n",
      " [ 30.   1.]]\n"
     ]
    }
   ],
   "source": [
    "my_first_matrix = np.array([[20,12],[30,1]], dtype=float32)\n",
    "print(my_first_matrix)"
   ]
  },
  {
   "cell_type": "code",
   "execution_count": 10,
   "metadata": {
    "collapsed": false
   },
   "outputs": [
    {
     "name": "stdout",
     "output_type": "stream",
     "text": [
      "Original matrix:\n",
      "[[20 12]\n",
      " [30  1]]\n",
      "Adding the value 5 to the matrix:\n",
      "[[25 17]\n",
      " [35  6]]\n",
      "Subtracting 20 from the matrix:\n",
      "[[  0  -8]\n",
      " [ 10 -19]]\n",
      "Dividing the matrix by 5:\n",
      "[[4 2]\n",
      " [6 0]]\n",
      "Multiplying the matrix by 20:\n",
      "[[400 240]\n",
      " [600  20]]\n"
     ]
    }
   ],
   "source": [
    "print(\"Original matrix:\\n\", my_first_matrix)\n",
    "scalar_addition_matrix = my_first_matrix + 5\n",
    "print(\"Adding the value 5 to the matrix:\\n\",scalar_addition_matrix)\n",
    "scalar_subtraction_matrix = my_first_matrix - 20\n",
    "print(\"Subtracting 20 from the matrix:\\n\", scalar_subtraction_matrix)\n",
    "scalar_division_matrix = my_first_matrix / 5\n",
    "print(\"Dividing the matrix by 5:\\n\",scalar_division_matrix)\n",
    "scalar_multiplication_matrix = my_first_matrix * 20\n",
    "print(\"Multiplying the matrix by 20:\\n\", scalar_multiplication_matrix)"
   ]
  },
  {
   "cell_type": "markdown",
   "metadata": {},
   "source": [
    "So, performing any operation with a matrix and a scalar causes the operation to be performed element-wise on the matrix. Lets move onto basic operations where both elements are matrices."
   ]
  },
  {
   "cell_type": "markdown",
   "metadata": {},
   "source": [
    "#### Matrix addition/subtraction with another matrix"
   ]
  },
  {
   "cell_type": "markdown",
   "metadata": {},
   "source": [
    "**When matrix addition and subtraction are performed with two matrices, both matrices must have the same exact shape:**"
   ]
  },
  {
   "cell_type": "code",
   "execution_count": 22,
   "metadata": {
    "collapsed": false
   },
   "outputs": [
    {
     "name": "stdout",
     "output_type": "stream",
     "text": [
      "[[20 12]\n",
      " [30  1]] (2, 2)\n",
      "[[1 3]\n",
      " [6 7]] (2, 2)\n",
      "Are my first and second matrices the same shape? True\n",
      "You can add and subtract matrices of the same shape:\n",
      "[[21 15]\n",
      " [36  8]] \n",
      "\n",
      "[[19  9]\n",
      " [24 -6]]\n"
     ]
    }
   ],
   "source": [
    "my_second_matrix = np.array([[1,3],[6,7]])\n",
    "my_third_matrix = np.array([[1,2,4],[1,3,5]])\n",
    "\n",
    "print(my_first_matrix,my_first_matrix.shape)\n",
    "print(my_second_matrix,my_second_matrix.shape)\n",
    "\n",
    "print(\"Are my first and second matrices the same shape?\",my_first_matrix.shape == my_second_matrix.shape)\n",
    "\n",
    "print(\"You can add and subtract matrices of the same shape:\\n\",my_first_matrix + my_second_matrix,\"\\n\")\n",
    "print(my_first_matrix - my_second_matrix)"
   ]
  },
  {
   "cell_type": "markdown",
   "metadata": {},
   "source": [
    "If you ever try to add/subtract 2 matrices of different shape, `Python` will throw a `ValueError`:"
   ]
  },
  {
   "cell_type": "code",
   "execution_count": 24,
   "metadata": {
    "collapsed": false
   },
   "outputs": [
    {
     "name": "stdout",
     "output_type": "stream",
     "text": [
      "But you can't do anything when the matrices have different shapes:\n",
      "[[20 12]\n",
      " [30  1]] (2, 2)\n",
      "[[1 2 4]\n",
      " [1 3 5]] (2, 3)\n",
      "Are my first and third matrices the same shape? False\n"
     ]
    },
    {
     "ename": "ValueError",
     "evalue": "operands could not be broadcast together with shapes (2,2) (2,3) ",
     "output_type": "error",
     "traceback": [
      "\u001b[0;31m---------------------------------------------------------------------------\u001b[0m",
      "\u001b[0;31mValueError\u001b[0m                                Traceback (most recent call last)",
      "\u001b[0;32m<ipython-input-24-b24f7f5c86eb>\u001b[0m in \u001b[0;36m<module>\u001b[0;34m()\u001b[0m\n\u001b[1;32m      3\u001b[0m \u001b[0;32mprint\u001b[0m \u001b[0mmy_third_matrix\u001b[0m\u001b[0;34m,\u001b[0m \u001b[0mmy_third_matrix\u001b[0m\u001b[0;34m.\u001b[0m\u001b[0mshape\u001b[0m\u001b[0;34m\u001b[0m\u001b[0m\n\u001b[1;32m      4\u001b[0m \u001b[0;32mprint\u001b[0m \u001b[0;34m\"Are my first and third matrices the same shape?\"\u001b[0m\u001b[0;34m,\u001b[0m\u001b[0mmy_first_matrix\u001b[0m\u001b[0;34m.\u001b[0m\u001b[0mshape\u001b[0m\u001b[0;34m==\u001b[0m\u001b[0mmy_third_matrix\u001b[0m\u001b[0;34m.\u001b[0m\u001b[0mshape\u001b[0m\u001b[0;34m\u001b[0m\u001b[0m\n\u001b[0;32m----> 5\u001b[0;31m \u001b[0mmy_first_matrix\u001b[0m \u001b[0;34m+\u001b[0m \u001b[0mmy_third_matrix\u001b[0m\u001b[0;34m\u001b[0m\u001b[0m\n\u001b[0m\u001b[1;32m      6\u001b[0m \u001b[0;34m\u001b[0m\u001b[0m\n\u001b[1;32m      7\u001b[0m \u001b[0;34m\u001b[0m\u001b[0m\n",
      "\u001b[0;31mValueError\u001b[0m: operands could not be broadcast together with shapes (2,2) (2,3) "
     ]
    }
   ],
   "source": [
    "print(\"But you can't do anything when the matrices have different shapes:\")\n",
    "print(my_first_matrix, my_first_matrix.shape)\n",
    "print(my_third_matrix, my_third_matrix.shape)\n",
    "print(\"Are my first and third matrices the same shape?\",my_first_matrix.shape==my_third_matrix.shape)\n",
    "my_first_matrix + my_third_matrix"
   ]
  },
  {
   "cell_type": "markdown",
   "metadata": {},
   "source": [
    "### The Dot Product"
   ]
  },
  {
   "cell_type": "markdown",
   "metadata": {},
   "source": [
    "Matrices can be multiplied either with other matrices or vectors. Both cases rely on the object you're multiplying with having an appropriate shape (but not necessarily the same shape as the first matrix!).\n",
    "\n",
    "In all talk of operations on matrices and vectors going forward, we will talk about the first matrix/vector as the **first operand** and the second matrix/vector as the **second operand**.\n",
    "\n",
    "**In order for multiplication of two matrices/vectors AxB to be defined, the number of columns in the first operand must equal the number of rows in the second operand. The resulting new matrix will have a number of rows equal to the number of rows in the first operand and the number of columns equal to the second operand.**\n",
    "\n",
    "To multiply matrices, we use a slightly different notation, calling the `dot` operator on a `NumPy` array:"
   ]
  },
  {
   "cell_type": "markdown",
   "metadata": {},
   "source": [
    "#### Dot Product with two vectors"
   ]
  },
  {
   "cell_type": "code",
   "execution_count": 26,
   "metadata": {
    "collapsed": false
   },
   "outputs": [
    {
     "data": {
      "text/plain": [
       "3.0"
      ]
     },
     "execution_count": 26,
     "metadata": {},
     "output_type": "execute_result"
    }
   ],
   "source": [
    "vector_one = np.asarray([1, 3, -5], dtype=np.float32)\n",
    "\n",
    "vector_two = np.asarray([4, -2, -1], dtype=np.float32)\n",
    "\n",
    "vector_one.dot(vector_two); np.dot(vector_one, vector_two)"
   ]
  },
  {
   "cell_type": "markdown",
   "metadata": {},
   "source": [
    "#### Dot Product with two matrices"
   ]
  },
  {
   "cell_type": "code",
   "execution_count": 30,
   "metadata": {
    "collapsed": false
   },
   "outputs": [
    {
     "data": {
      "text/plain": [
       "array([[ 58,  64],\n",
       "       [139, 154]])"
      ]
     },
     "execution_count": 30,
     "metadata": {},
     "output_type": "execute_result"
    }
   ],
   "source": [
    "matrix_one = np.array([[1, 2, 3],[4, 5, 6]])\n",
    "matrix_two = np.array([[7, 8],[9, 10],[11, 12]])\n",
    "dot_product = matrix_one.dot( matrix_two )\n",
    "dot_product"
   ]
  },
  {
   "cell_type": "code",
   "execution_count": 26,
   "metadata": {
    "collapsed": false
   },
   "outputs": [
    {
     "name": "stdout",
     "output_type": "stream",
     "text": [
      "First matrix:\n",
      "[[20 12]\n",
      " [30  1]] (2, 2)\n",
      "Second matrix: \n",
      "[[1 3]\n",
      " [6 7]] (2, 2)\n",
      "Result of multiplying first x second:\n",
      "[[ 92 144]\n",
      " [ 36  97]] (2, 2)\n",
      "Result of multiplying second x first:\n",
      "[[110  15]\n",
      " [330  79]] (2, 2)\n"
     ]
    }
   ],
   "source": [
    "print(\"First matrix:\\n\",my_first_matrix, my_first_matrix.shape)\n",
    "print(\"Second matrix: \\n\", my_second_matrix, my_second_matrix.shape)\n",
    "print(\"Result of multiplying first x second:\\n\", my_first_matrix.dot(my_second_matrix), my_first_matrix.dot(my_second_matrix).shape)\n",
    "print(\"Result of multiplying second x first:\\n\", my_second_matrix.dot(my_first_matrix),my_second_matrix.dot(my_first_matrix).shape )"
   ]
  },
  {
   "cell_type": "markdown",
   "metadata": {},
   "source": [
    "**Notice that AxB is not the same as BxA when multiplying matrices!**\n",
    "Let's try the same thing with matrices of slightly different shape:"
   ]
  },
  {
   "cell_type": "code",
   "execution_count": 27,
   "metadata": {
    "collapsed": false
   },
   "outputs": [
    {
     "name": "stdout",
     "output_type": "stream",
     "text": [
      "First matrix:\n",
      "[[20 12]\n",
      " [30  1]] (2, 2)\n",
      "Other matrix:\n",
      "[[1 2 4]\n",
      " [1 3 5]] (2, 3)\n",
      "First x Other:\n",
      "[[ 32  76 140]\n",
      " [ 31  63 125]] (2, 3)\n"
     ]
    }
   ],
   "source": [
    "print(\"First matrix:\\n\",my_first_matrix,my_first_matrix.shape)\n",
    "print(\"Other matrix:\\n\",my_third_matrix,my_third_matrix.shape)\n",
    "print(\"First x Other:\\n\", my_first_matrix.dot(my_third_matrix), my_first_matrix.dot(my_third_matrix).shape)"
   ]
  },
  {
   "cell_type": "markdown",
   "metadata": {},
   "source": [
    "Will multiplying Other x First work?"
   ]
  },
  {
   "cell_type": "markdown",
   "metadata": {},
   "source": [
    "Let's now try to multiply one of our matrices by a properly formed vector:"
   ]
  },
  {
   "cell_type": "code",
   "execution_count": 36,
   "metadata": {
    "collapsed": false
   },
   "outputs": [
    {
     "name": "stdout",
     "output_type": "stream",
     "text": [
      " A matrix:\n",
      "[[1 2 4]\n",
      " [1 3 5]] (2, 3)\n",
      "A vector:\n",
      "[10 12 13] (3,)\n",
      "matrix x vector: [ 86 111] (2,)\n"
     ]
    }
   ],
   "source": [
    "print(\"A matrix:\\n\", my_third_matrix,my_third_matrix.shape)\n",
    "print(\"A vector:\\n\", my_first_vector, my_first_vector.shape)\n",
    "print(\"matrix x vector:\", my_third_matrix.dot(my_first_vector),my_third_matrix.dot(my_first_vector).shape)"
   ]
  },
  {
   "cell_type": "code",
   "execution_count": 37,
   "metadata": {
    "collapsed": false
   },
   "outputs": [
    {
     "data": {
      "text/plain": [
       "(array([ 86, 111]), (2, 3))"
      ]
     },
     "execution_count": 37,
     "metadata": {},
     "output_type": "execute_result"
    }
   ],
   "source": [
    "my_third_matrix.dot(my_first_vector), my_third_matrix.shape"
   ]
  },
  {
   "cell_type": "markdown",
   "metadata": {},
   "source": [
    "### Matrix Inversion / Matrix division by another matrix "
   ]
  },
  {
   "cell_type": "markdown",
   "metadata": {},
   "source": [
    "In order to talk about matrix division, we must first introduce the concept of a matrix inverse, because matrix division can't exist without it.\n",
    "\n",
    "Remember from common math that dividing a number X by a number Y (X/Y) is the exact same thing as (X * 1/Y), or taking the reciprocal of Y and multiplying by that number. \n",
    "\n",
    "Also remember that a number multiplied by its reciprocal gives you 1 (Y * 1/Y = 1).\n",
    "\n",
    "For matrices, we have to do the same exact thing (take the reciprocal), and we also have to identify the matrix version of the number 1.\n",
    "\n",
    "So, how do we do Y * 1/Y = 1 for matrices? "
   ]
  },
  {
   "cell_type": "code",
   "execution_count": 40,
   "metadata": {
    "collapsed": false
   },
   "outputs": [
    {
     "data": {
      "text/plain": [
       "array([[-0.00294118,  0.03529412],\n",
       "       [ 0.0882353 , -0.05882353]], dtype=float32)"
      ]
     },
     "execution_count": 40,
     "metadata": {},
     "output_type": "execute_result"
    }
   ],
   "source": [
    "my_first_matrix = np.array([[20, 12],[30, 1]], dtype=np.float32)\n",
    "\n",
    "my_first_matrix_inverse = np.linalg.inv(matrix_c)\n",
    "my_first_matrix_inverse"
   ]
  },
  {
   "cell_type": "markdown",
   "metadata": {},
   "source": [
    "So, what happens when you take the dot product of a matrix and that matrix's inverse?"
   ]
  },
  {
   "cell_type": "code",
   "execution_count": 41,
   "metadata": {
    "collapsed": false
   },
   "outputs": [
    {
     "data": {
      "text/plain": [
       "array([[ 1.,  0.],\n",
       "       [ 0.,  1.]], dtype=float32)"
      ]
     },
     "execution_count": 41,
     "metadata": {},
     "output_type": "execute_result"
    }
   ],
   "source": [
    "my_first_matrix.dot(my_first_matrix_inverse)"
   ]
  },
  {
   "cell_type": "markdown",
   "metadata": {},
   "source": [
    "You get what we call the **identity matrix**! It is called the identity matriy because, taking the dot product of it by a matrix of the same shape will give you back that matrix.\n",
    "\n",
    "Getting the identity matrix back above makes sense. It's equivelant to the fact that dividing x by itself (x/x) returns 1. And 1 * x = x. \n",
    "\n",
    "You can also create an identity matrix using `np.eye(n)`, where n is the number of columns/rows (which will be of equal length)."
   ]
  },
  {
   "cell_type": "code",
   "execution_count": 42,
   "metadata": {
    "collapsed": false
   },
   "outputs": [
    {
     "name": "stdout",
     "output_type": "stream",
     "text": [
      "[[ 1.  0.]\n",
      " [ 0.  1.]]\n",
      "A matrix:\n",
      " [[ 20.  12.]\n",
      " [ 30.   1.]]\n",
      "A matrix times the identity matrix gives you the same matrix again:\n",
      " [[ 20.  12.]\n",
      " [ 30.   1.]]\n"
     ]
    }
   ],
   "source": [
    "print(np.eye(2)) #eye is the function that does this in Python\n",
    "print(\"A matrix:\\n\", my_first_matrix)\n",
    "print(\"A matrix times the identity matrix gives you the same matrix again:\\n\",my_first_matrix.dot(np.eye(2)))"
   ]
  },
  {
   "cell_type": "markdown",
   "metadata": {},
   "source": [
    "So, the reciprocal of some matrix A (lets call it `recipA`) is the matrix such that `A * recipA = I`.\n",
    "\n",
    "This matrix `recipA` can only exist for square matrices, and is called the **matrix inverse**.\n",
    "\n",
    "**Not all square matrices have inverses!**\n",
    "\n",
    "We can compute the inverse of a matrix (if it exists) by using `np.linalg.inv`: "
   ]
  },
  {
   "cell_type": "markdown",
   "metadata": {},
   "source": [
    "So, now that we see what matrix inversion is, we can go back to answering the question of how to do matrix division:\n",
    "\n",
    "* For any 2 matrices, A and B, for A/B to give an actual result, B must be square and have an inverse.\n",
    "* To get A/B, just compute A x invB"
   ]
  },
  {
   "cell_type": "code",
   "execution_count": 46,
   "metadata": {
    "collapsed": false
   },
   "outputs": [
    {
     "name": "stdout",
     "output_type": "stream",
     "text": [
      "First matrix:\n",
      "[[20 12]\n",
      " [30  1]]\n",
      "Second matrix:\n",
      "[[1 3]\n",
      " [6 7]]\n",
      "First divided by second:\n",
      "[[ -6.18181818   4.36363636]\n",
      " [-18.54545455   8.09090909]]\n"
     ]
    }
   ],
   "source": [
    "print(\"First matrix:\\n\",my_first_matrix )#A\n",
    "print(\"Second matrix:\\n\",my_second_matrix )#B\n",
    "my_second_matrix_inverse = np.linalg.inv(my_second_matrix) #invB\n",
    "print(\"First divided by second:\\n\",my_first_matrix.dot(my_second_matrix_inverse)) #A x invB"
   ]
  },
  {
   "cell_type": "markdown",
   "metadata": {},
   "source": [
    "What happens if we multiply the two vectors without the dot product?"
   ]
  },
  {
   "cell_type": "code",
   "execution_count": 43,
   "metadata": {
    "collapsed": false
   },
   "outputs": [
    {
     "data": {
      "text/plain": [
       "array([[ 20.,   0.],\n",
       "       [  0.,   1.]])"
      ]
     },
     "execution_count": 43,
     "metadata": {},
     "output_type": "execute_result"
    }
   ],
   "source": [
    "my_first_matrix * np.eye(2)"
   ]
  },
  {
   "cell_type": "markdown",
   "metadata": {},
   "source": [
    "Do you see why? Here we're doing matrix scalar multiplication rather than finding the dot product."
   ]
  },
  {
   "cell_type": "markdown",
   "metadata": {},
   "source": [
    "#### Matrix transpose"
   ]
  },
  {
   "cell_type": "markdown",
   "metadata": {},
   "source": [
    "To explain matrix transpose, let's take a matrix and a vector that we want to multiply together:\n",
    "\n",
    "A = \\begin{bmatrix}\n",
    "  10 & 2 \\\\\n",
    "  -1 & 5 \\\\\n",
    "  3 & 3\n",
    " \\end{bmatrix}\n",
    " \n",
    "B  = \\begin{bmatrix}\n",
    "  2 & 3 & 31\n",
    "  \\end{bmatrix}"
   ]
  },
  {
   "cell_type": "markdown",
   "metadata": {},
   "source": [
    "A is of shape (3,2) and B is of shape (1,3), so as the two objects stand, we can perform BxA, but AxB will throw a `ValueError`: "
   ]
  },
  {
   "cell_type": "code",
   "execution_count": 52,
   "metadata": {
    "collapsed": false
   },
   "outputs": [
    {
     "name": "stdout",
     "output_type": "stream",
     "text": [
      "A:\n",
      "[[10  2]\n",
      " [-1  5]\n",
      " [ 3  3]]\n",
      "B:\n",
      "[[ 2  3 31]]\n",
      "Shape of A and B:  (3, 2) (1, 3)\n",
      "B x A:\n",
      "[[110 112]]\n",
      "A x B:"
     ]
    },
    {
     "ename": "ValueError",
     "evalue": "shapes (3,2) and (1,3) not aligned: 2 (dim 1) != 1 (dim 0)",
     "output_type": "error",
     "traceback": [
      "\u001b[0;31m---------------------------------------------------------------------------\u001b[0m",
      "\u001b[0;31mValueError\u001b[0m                                Traceback (most recent call last)",
      "\u001b[0;32m<ipython-input-52-e343be3443be>\u001b[0m in \u001b[0;36m<module>\u001b[0;34m()\u001b[0m\n\u001b[1;32m      5\u001b[0m \u001b[0;32mprint\u001b[0m \u001b[0;34m\"Shape of A and B: \"\u001b[0m\u001b[0;34m,\u001b[0m\u001b[0mA\u001b[0m\u001b[0;34m.\u001b[0m\u001b[0mshape\u001b[0m\u001b[0;34m,\u001b[0m\u001b[0mB\u001b[0m\u001b[0;34m.\u001b[0m\u001b[0mshape\u001b[0m\u001b[0;34m\u001b[0m\u001b[0m\n\u001b[1;32m      6\u001b[0m \u001b[0;32mprint\u001b[0m \u001b[0;34m\"B x A:\\n\"\u001b[0m\u001b[0;34m,\u001b[0m \u001b[0mB\u001b[0m\u001b[0;34m.\u001b[0m\u001b[0mdot\u001b[0m\u001b[0;34m(\u001b[0m\u001b[0mA\u001b[0m\u001b[0;34m)\u001b[0m\u001b[0;34m\u001b[0m\u001b[0m\n\u001b[0;32m----> 7\u001b[0;31m \u001b[0;32mprint\u001b[0m \u001b[0;34m\"A x B:\"\u001b[0m\u001b[0;34m,\u001b[0m\u001b[0mA\u001b[0m\u001b[0;34m.\u001b[0m\u001b[0mdot\u001b[0m\u001b[0;34m(\u001b[0m\u001b[0mB\u001b[0m\u001b[0;34m)\u001b[0m\u001b[0;34m\u001b[0m\u001b[0m\n\u001b[0m",
      "\u001b[0;31mValueError\u001b[0m: shapes (3,2) and (1,3) not aligned: 2 (dim 1) != 1 (dim 0)"
     ]
    }
   ],
   "source": [
    "A = np.array([[10,2],[-1,5],[3,3]])\n",
    "B = np.array([[2,3,31]])\n",
    "print(\"A:\\n\",A)\n",
    "print(\"B:\\n\",B)\n",
    "print(\"Shape of A and B: \",A.shape,B.shape)\n",
    "print(\"B x A:\\n\", B.dot(A))\n",
    "print(\"A x B:\",A.dot(B))"
   ]
  },
  {
   "cell_type": "markdown",
   "metadata": {},
   "source": [
    "How can we mupltiply A x B without throwing an error?\n",
    "\n",
    "We can take the transpose of A  and of B to make them both have the appropriate dimensions to allow the multiplication to work.\n",
    "\n",
    "The matrix transpose simply switches row and column indices for any matrix, such that the rows = the columns and the columns = the rows.\n",
    "\n",
    "A = \\begin{bmatrix}\n",
    "  10 & 2 \\\\\n",
    "  -1 & 5 \\\\\n",
    "  3 & 3\n",
    " \\end{bmatrix}\n",
    "\n",
    "transpose(A) = \\begin{bmatrix}\n",
    "  10 & -1 & 3 \\\\\n",
    "  2 & 5 & 3\n",
    " \\end{bmatrix}\n",
    " \n",
    "B  = \\begin{bmatrix}\n",
    "  2 & 3 & 31\n",
    "  \\end{bmatrix}\n",
    "\n",
    "transpose(B) = \\begin{bmatrix}\n",
    "  2 \\\\\n",
    "  3 \\\\\n",
    "  31\n",
    "  \\end{bmatrix}\n",
    " \n",
    " So, to get the proper multiplication to work where A is the first operand and B is the second operand, we can do transpose(A) x transpose(B):"
   ]
  },
  {
   "cell_type": "code",
   "execution_count": 59,
   "metadata": {
    "collapsed": false
   },
   "outputs": [
    {
     "name": "stdout",
     "output_type": "stream",
     "text": [
      "A:\n",
      "[[10  2]\n",
      " [-1  5]\n",
      " [ 3  3]] (3, 2)\n",
      "\n",
      "B:\n",
      "[[ 2  3 31]] (1, 3)\n",
      "\n",
      "A':\n",
      "[[10 -1  3]\n",
      " [ 2  5  3]] (2, 3)\n",
      "\n",
      "B':\n",
      "[[ 2]\n",
      " [ 3]\n",
      " [31]] (3, 1)\n",
      "\n",
      "A' x B':\n",
      "[[110]\n",
      " [112]] (2, 1)\n"
     ]
    }
   ],
   "source": [
    "A = np.array([[10,2],[-1,5],[3,3]])\n",
    "B = np.array([[2,3,31]])\n",
    "print(\"A:\\n\",A,A.shape\n",
    "print()\n",
    "print(\"B:\\n\",B,B.shape)\n",
    "print()\n",
    "print(\"A':\\n\",A.T, A.T.shape)\n",
    "print()\n",
    "print(\"B':\\n\",B.T, B.T.shape)\n",
    "print()\n",
    "print(\"A' x B':\\n\",A.T.dot(B.T),A.T.dot(B.T).shape)"
   ]
  },
  {
   "cell_type": "markdown",
   "metadata": {},
   "source": [
    "### Exercise Time\n",
    "\n",
    "I've dumped a whole crapload of linear algebra into here, so I want to get you to use some of it:\n",
    "* Create a 3x3 matrix C = [[12,3,4],[1,-1,10],[2,5,-2]] and a 3 x 1 vector d = [[3,-2,10]]\n",
    "* Does the inverse of C exist? What is it?\n",
    "* Mutiply C x d\n",
    "* Get d x C to work using transpose"
   ]
  },
  {
   "cell_type": "code",
   "execution_count": null,
   "metadata": {
    "collapsed": true
   },
   "outputs": [],
   "source": []
  }
 ],
 "metadata": {
  "kernelspec": {
   "display_name": "Python 3",
   "language": "python",
   "name": "python3"
  },
  "language_info": {
   "codemirror_mode": {
    "name": "ipython",
    "version": 3
   },
   "file_extension": ".py",
   "mimetype": "text/x-python",
   "name": "python",
   "nbconvert_exporter": "python",
   "pygments_lexer": "ipython3",
   "version": "3.6.0"
  }
 },
 "nbformat": 4,
 "nbformat_minor": 1
}
